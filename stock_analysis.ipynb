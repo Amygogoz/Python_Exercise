{
 "cells": [
  {
   "cell_type": "code",
   "execution_count": 1,
   "metadata": {},
   "outputs": [],
   "source": [
    "import pandas as pd"
   ]
  },
  {
   "cell_type": "markdown",
   "metadata": {},
   "source": [
    "### 题目一"
   ]
  },
  {
   "cell_type": "markdown",
   "metadata": {},
   "source": [
    "### 1. 从fundemantals.csv开始！fundemantals.csv 是这些股票的年报数据"
   ]
  },
  {
   "cell_type": "code",
   "execution_count": 2,
   "metadata": {},
   "outputs": [],
   "source": [
    "sp_data = pd.read_csv('fundamentals.csv',index_col=0)"
   ]
  },
  {
   "cell_type": "markdown",
   "metadata": {},
   "source": [
    "S&P500股票在2015年net income的均值是多少？最大值比最小值多多少？（每问10分，共计20分）"
   ]
  },
  {
   "cell_type": "code",
   "execution_count": 21,
   "metadata": {},
   "outputs": [
    {
     "name": "stdout",
     "output_type": "stream",
     "text": [
      "The average net income is 1575185571.764706.\n"
     ]
    }
   ],
   "source": [
    "avg_net_income = sp_data[sp_data['For Year']==2015]['Net Income'].mean()\n",
    "print('The average net income is {}.'.format(avg_net_income))"
   ]
  },
  {
   "cell_type": "code",
   "execution_count": 22,
   "metadata": {},
   "outputs": [
    {
     "name": "stdout",
     "output_type": "stream",
     "text": [
      "The difference of max and min net income is 76922000000.0.\n"
     ]
    }
   ],
   "source": [
    "max_min = sp_data[sp_data['For Year']==2015]['Net Income'].max() - sp_data[sp_data['For Year']==2015]['Net Income'].min()\n",
    "print('The difference of max and min net income is {}.'.format(max_min))"
   ]
  },
  {
   "cell_type": "markdown",
   "metadata": {},
   "source": [
    "S&P500股票在2016年的固定资产（fixed assets）占总资产(total assets)比例的均值是多少？固定资产占总资产比例最小的股票的代码（ticker symbol）是什么？（每问10分，共计20分）"
   ]
  },
  {
   "cell_type": "code",
   "execution_count": 23,
   "metadata": {},
   "outputs": [
    {
     "name": "stdout",
     "output_type": "stream",
     "text": [
      "The average fixed assets ratio is 0.19324818273816133\n"
     ]
    }
   ],
   "source": [
    "avg_ratio = sp_data[sp_data['For Year']==2016]['Fixed Assets'].sum() / sp_data[sp_data['For Year']==2016]['Total Assets'].sum()\n",
    "print('The average fixed assets ratio is {}'.format(avg_ratio))"
   ]
  },
  {
   "cell_type": "code",
   "execution_count": 26,
   "metadata": {},
   "outputs": [],
   "source": [
    "sp_data['Fixed Assets Ratio'] = sp_data[sp_data['For Year']==2016]['Fixed Assets']\\\n",
    "                                / sp_data[sp_data['For Year']==2016]['Total Assets']\n",
    "min_ratio = sp_data['Fixed Assets Ratio'].min()\n",
    "min_ticker_sym = sp_data[sp_data['Fixed Assets Ratio']==min_ratio]['Ticker Symbol']"
   ]
  },
  {
   "cell_type": "code",
   "execution_count": 28,
   "metadata": {},
   "outputs": [
    {
     "name": "stdout",
     "output_type": "stream",
     "text": [
      "The ticker symbol with minimum fixed ratio is 459    DHI\n",
      "Name: Ticker Symbol, dtype: object. \n",
      "The ratio is 0.016904722767737416.\n"
     ]
    }
   ],
   "source": [
    "print('The ticker symbol with minimum fixed ratio is {}. \\nThe ratio is {}.'.format(min_ticker_sym, min_ratio))"
   ]
  },
  {
   "cell_type": "markdown",
   "metadata": {},
   "source": [
    "### 题目二"
   ]
  },
  {
   "cell_type": "markdown",
   "metadata": {},
   "source": [
    "### 2. 加入securities.csv~ securities.csv包含了这些股票的基本信息"
   ]
  },
  {
   "cell_type": "markdown",
   "metadata": {},
   "source": [
    "请列举出各个sector中的加入时间最早的股票名称（10分）"
   ]
  },
  {
   "cell_type": "code",
   "execution_count": 3,
   "metadata": {},
   "outputs": [],
   "source": [
    "secu_data = pd.read_csv('securities.csv')"
   ]
  },
  {
   "cell_type": "code",
   "execution_count": 4,
   "metadata": {},
   "outputs": [
    {
     "name": "stdout",
     "output_type": "stream",
     "text": [
      "Index(['Ticker Symbol', 'Security', 'SEC filings', 'GICS Sector',\n",
      "       'GICS Sub Industry', 'Address of Headquarters', 'Date first added',\n",
      "       'CIK'],\n",
      "      dtype='object')\n"
     ]
    }
   ],
   "source": [
    "print(secu_data.columns)"
   ]
  },
  {
   "cell_type": "code",
   "execution_count": 5,
   "metadata": {},
   "outputs": [],
   "source": [
    "secu_data['Date first added'] = pd.to_datetime(secu_data['Date first added'])\n",
    "secu_data['Rank_by_Sector'] = secu_data.groupby('GICS Sector')['Date first added'].rank(method='dense')\n",
    "first_added = secu_data[secu_data['Rank_by_Sector']==1]"
   ]
  },
  {
   "cell_type": "code",
   "execution_count": 6,
   "metadata": {},
   "outputs": [
    {
     "name": "stdout",
     "output_type": "stream",
     "text": [
      "                     GICS Sector                     Security Date first added\n",
      "1                    Health Care          Abbott Laboratories       1964-03-31\n",
      "48                   Industrials                  Arconic Inc       1964-03-31\n",
      "51   Telecommunications Services                     AT&T Inc       1983-11-30\n",
      "56                   Real Estate  AvalonBay Communities, Inc.       2007-01-10\n",
      "152                    Utilities                  Duke Energy       1976-06-30\n",
      "207             Consumer Staples                General Mills       1969-03-31\n",
      "230                  Industrials         Honeywell Int'l Inc.       1964-03-31\n",
      "233       Information Technology                      HP Inc.       1974-12-31\n",
      "255                   Financials         JPMorgan Chase & Co.       1975-06-30\n",
      "296       Consumer Discretionary             McDonald's Corp.       1970-06-30\n",
      "328                    Utilities               NextEra Energy       1976-06-30\n",
      "399                       Energy            Schlumberger Ltd.       1965-03-31\n",
      "404                    Materials             Sherwin-Williams       1964-06-30\n",
      "433             Consumer Staples           The Clorox Company       1969-03-31\n",
      "472  Telecommunications Services       Verizon Communications       1983-11-30\n"
     ]
    }
   ],
   "source": [
    "print(first_added[['GICS Sector','Security','Date first added']])"
   ]
  },
  {
   "cell_type": "markdown",
   "metadata": {},
   "source": [
    "请列举出每一个州中加入时间最晚的股票名称（10分）"
   ]
  },
  {
   "cell_type": "code",
   "execution_count": 7,
   "metadata": {},
   "outputs": [],
   "source": [
    "secu_data['State'] = secu_data['Address of Headquarters'].apply(lambda x:x.split(',')[-1])\n",
    "secu_data['Rank_by_State'] = secu_data.groupby('State')['Date first added'].rank(method='dense',ascending=False)\n",
    "last_added = secu_data[secu_data['Rank_by_State']==1]"
   ]
  },
  {
   "cell_type": "code",
   "execution_count": 8,
   "metadata": {},
   "outputs": [
    {
     "name": "stdout",
     "output_type": "stream",
     "text": [
      "                           State                          Security\n",
      "5                        Georgia                 Acuity Brands Inc\n",
      "16                     Louisiana                    Albemarle Corp\n",
      "21                     Wisconsin               Alliant Energy Corp\n",
      "33                    New Jersey  American Water Works Company Inc\n",
      "56                   Virginia[3]       AvalonBay Communities, Inc.\n",
      "66                      Nebraska                Berkshire Hathaway\n",
      "90                      Missouri               Centene Corporation\n",
      "96                   Connecticut            Charter Communications\n",
      "108                 Rhode Island          Citizens Financial Group\n",
      "116                 Pennsylvania                    Comcast A Corp\n",
      "119                        Texas                  Concho Resources\n",
      "125                           NY                         Coty, Inc\n",
      "127                     Virginia                         CSRA Inc.\n",
      "163                      Ireland                Endo International\n",
      "165                    Tennessee          Envision Healthcare Corp\n",
      "178                           UT               Extra Space Storage\n",
      "187                      Arizona                   First Solar Inc\n",
      "190                       Oregon                      FLIR Systems\n",
      "195                     New York                   Foot Locker Inc\n",
      "197                   Washington                      Fortive Corp\n",
      "198                     Illinois    Fortune Brands Home & Security\n",
      "208                     Michigan                    General Motors\n",
      "228                Massachusetts                           Hologic\n",
      "236                        Maine                IDEXX Laboratories\n",
      "250                     Arkansas     J. B. Hunt Transport Services\n",
      "275                      Indiana                 Lilly (Eli) & Co.\n",
      "282                  Netherlands                    LyondellBasell\n",
      "302                         Ohio                    Mettler Toledo\n",
      "305                        Idaho                 Micron Technology\n",
      "307                    Tennessee            Mid-America Apartments\n",
      "320                     Delaware                           Navient\n",
      "343                     Oklahoma                             ONEOK\n",
      "350                           UK                      Pentair Ltd.\n",
      "377               North Carolina                             Qorvo\n",
      "394                      Florida       Royal Caribbean Cruises Ltd\n",
      "398               South Carolina                        SCANA Corp\n",
      "399   Kingdom of the Netherlands                 Schlumberger Ltd.\n",
      "405                      Bermuda                   Signet Jewelers\n",
      "412                     Texas[6]               Southwestern Energy\n",
      "434                   California              The Cooper Companies\n",
      "436                    Minnesota                The Mosaic Company\n",
      "447                  Switzerland                        Transocean\n",
      "453                     Colorado                           UDR Inc\n",
      "456                     Maryland                      Under Armour\n",
      "492               United Kingdom              Willis Towers Watson\n",
      "494                       Nevada                  Wynn Resorts Ltd\n",
      "501                     Kentucky                   Yum! Brands Inc\n"
     ]
    }
   ],
   "source": [
    "print(last_added[['State','Security']])"
   ]
  },
  {
   "cell_type": "markdown",
   "metadata": {},
   "source": [
    "### 题目三"
   ]
  },
  {
   "cell_type": "markdown",
   "metadata": {},
   "source": [
    "### 3. merge! 现在你需要同时处理来自两个表中的信息了"
   ]
  },
  {
   "cell_type": "markdown",
   "metadata": {},
   "source": [
    "请思考，合并两个表的信息的时候，我们应该用什么样的准则对齐它们（10分）"
   ]
  },
  {
   "cell_type": "code",
   "execution_count": 9,
   "metadata": {},
   "outputs": [],
   "source": [
    "merge_data = pd.merge(sp_data,secu_data,on='Ticker Symbol')"
   ]
  },
  {
   "cell_type": "code",
   "execution_count": 10,
   "metadata": {},
   "outputs": [
    {
     "data": {
      "text/html": [
       "<div>\n",
       "<style scoped>\n",
       "    .dataframe tbody tr th:only-of-type {\n",
       "        vertical-align: middle;\n",
       "    }\n",
       "\n",
       "    .dataframe tbody tr th {\n",
       "        vertical-align: top;\n",
       "    }\n",
       "\n",
       "    .dataframe thead th {\n",
       "        text-align: right;\n",
       "    }\n",
       "</style>\n",
       "<table border=\"1\" class=\"dataframe\">\n",
       "  <thead>\n",
       "    <tr style=\"text-align: right;\">\n",
       "      <th></th>\n",
       "      <th>Ticker Symbol</th>\n",
       "      <th>Period Ending</th>\n",
       "      <th>Accounts Payable</th>\n",
       "      <th>Accounts Receivable</th>\n",
       "      <th>Add'l income/expense items</th>\n",
       "      <th>After Tax ROE</th>\n",
       "      <th>Capital Expenditures</th>\n",
       "      <th>Capital Surplus</th>\n",
       "      <th>Cash Ratio</th>\n",
       "      <th>Cash and Cash Equivalents</th>\n",
       "      <th>...</th>\n",
       "      <th>Security</th>\n",
       "      <th>SEC filings</th>\n",
       "      <th>GICS Sector</th>\n",
       "      <th>GICS Sub Industry</th>\n",
       "      <th>Address of Headquarters</th>\n",
       "      <th>Date first added</th>\n",
       "      <th>CIK</th>\n",
       "      <th>Rank_by_Sector</th>\n",
       "      <th>State</th>\n",
       "      <th>Rank_by_State</th>\n",
       "    </tr>\n",
       "  </thead>\n",
       "  <tbody>\n",
       "    <tr>\n",
       "      <th>0</th>\n",
       "      <td>AAL</td>\n",
       "      <td>2012-12-31</td>\n",
       "      <td>3.068000e+09</td>\n",
       "      <td>-222000000.0</td>\n",
       "      <td>-1.961000e+09</td>\n",
       "      <td>23.0</td>\n",
       "      <td>-1.888000e+09</td>\n",
       "      <td>4.695000e+09</td>\n",
       "      <td>53.0</td>\n",
       "      <td>1.330000e+09</td>\n",
       "      <td>...</td>\n",
       "      <td>American Airlines Group</td>\n",
       "      <td>reports</td>\n",
       "      <td>Industrials</td>\n",
       "      <td>Airlines</td>\n",
       "      <td>Fort Worth, Texas</td>\n",
       "      <td>2015-03-23</td>\n",
       "      <td>6201</td>\n",
       "      <td>34.0</td>\n",
       "      <td>Texas</td>\n",
       "      <td>2.0</td>\n",
       "    </tr>\n",
       "    <tr>\n",
       "      <th>1</th>\n",
       "      <td>AAL</td>\n",
       "      <td>2013-12-31</td>\n",
       "      <td>4.975000e+09</td>\n",
       "      <td>-93000000.0</td>\n",
       "      <td>-2.723000e+09</td>\n",
       "      <td>67.0</td>\n",
       "      <td>-3.114000e+09</td>\n",
       "      <td>1.059200e+10</td>\n",
       "      <td>75.0</td>\n",
       "      <td>2.175000e+09</td>\n",
       "      <td>...</td>\n",
       "      <td>American Airlines Group</td>\n",
       "      <td>reports</td>\n",
       "      <td>Industrials</td>\n",
       "      <td>Airlines</td>\n",
       "      <td>Fort Worth, Texas</td>\n",
       "      <td>2015-03-23</td>\n",
       "      <td>6201</td>\n",
       "      <td>34.0</td>\n",
       "      <td>Texas</td>\n",
       "      <td>2.0</td>\n",
       "    </tr>\n",
       "    <tr>\n",
       "      <th>2</th>\n",
       "      <td>AAL</td>\n",
       "      <td>2014-12-31</td>\n",
       "      <td>4.668000e+09</td>\n",
       "      <td>-160000000.0</td>\n",
       "      <td>-1.500000e+08</td>\n",
       "      <td>143.0</td>\n",
       "      <td>-5.311000e+09</td>\n",
       "      <td>1.513500e+10</td>\n",
       "      <td>60.0</td>\n",
       "      <td>1.768000e+09</td>\n",
       "      <td>...</td>\n",
       "      <td>American Airlines Group</td>\n",
       "      <td>reports</td>\n",
       "      <td>Industrials</td>\n",
       "      <td>Airlines</td>\n",
       "      <td>Fort Worth, Texas</td>\n",
       "      <td>2015-03-23</td>\n",
       "      <td>6201</td>\n",
       "      <td>34.0</td>\n",
       "      <td>Texas</td>\n",
       "      <td>2.0</td>\n",
       "    </tr>\n",
       "    <tr>\n",
       "      <th>3</th>\n",
       "      <td>AAL</td>\n",
       "      <td>2015-12-31</td>\n",
       "      <td>5.102000e+09</td>\n",
       "      <td>352000000.0</td>\n",
       "      <td>-7.080000e+08</td>\n",
       "      <td>135.0</td>\n",
       "      <td>-6.151000e+09</td>\n",
       "      <td>1.159100e+10</td>\n",
       "      <td>51.0</td>\n",
       "      <td>1.085000e+09</td>\n",
       "      <td>...</td>\n",
       "      <td>American Airlines Group</td>\n",
       "      <td>reports</td>\n",
       "      <td>Industrials</td>\n",
       "      <td>Airlines</td>\n",
       "      <td>Fort Worth, Texas</td>\n",
       "      <td>2015-03-23</td>\n",
       "      <td>6201</td>\n",
       "      <td>34.0</td>\n",
       "      <td>Texas</td>\n",
       "      <td>2.0</td>\n",
       "    </tr>\n",
       "    <tr>\n",
       "      <th>4</th>\n",
       "      <td>AAP</td>\n",
       "      <td>2012-12-29</td>\n",
       "      <td>2.409453e+09</td>\n",
       "      <td>-89482000.0</td>\n",
       "      <td>6.000000e+05</td>\n",
       "      <td>32.0</td>\n",
       "      <td>-2.711820e+08</td>\n",
       "      <td>5.202150e+08</td>\n",
       "      <td>23.0</td>\n",
       "      <td>5.981110e+08</td>\n",
       "      <td>...</td>\n",
       "      <td>Advance Auto Parts</td>\n",
       "      <td>reports</td>\n",
       "      <td>Consumer Discretionary</td>\n",
       "      <td>Automotive Retail</td>\n",
       "      <td>Roanoke, Virginia</td>\n",
       "      <td>2015-07-09</td>\n",
       "      <td>1158449</td>\n",
       "      <td>49.0</td>\n",
       "      <td>Virginia</td>\n",
       "      <td>2.0</td>\n",
       "    </tr>\n",
       "    <tr>\n",
       "      <th>...</th>\n",
       "      <td>...</td>\n",
       "      <td>...</td>\n",
       "      <td>...</td>\n",
       "      <td>...</td>\n",
       "      <td>...</td>\n",
       "      <td>...</td>\n",
       "      <td>...</td>\n",
       "      <td>...</td>\n",
       "      <td>...</td>\n",
       "      <td>...</td>\n",
       "      <td>...</td>\n",
       "      <td>...</td>\n",
       "      <td>...</td>\n",
       "      <td>...</td>\n",
       "      <td>...</td>\n",
       "      <td>...</td>\n",
       "      <td>...</td>\n",
       "      <td>...</td>\n",
       "      <td>...</td>\n",
       "      <td>...</td>\n",
       "      <td>...</td>\n",
       "    </tr>\n",
       "    <tr>\n",
       "      <th>1776</th>\n",
       "      <td>ZION</td>\n",
       "      <td>2015-12-31</td>\n",
       "      <td>0.000000e+00</td>\n",
       "      <td>0.0</td>\n",
       "      <td>-2.530000e+06</td>\n",
       "      <td>4.0</td>\n",
       "      <td>-1.573610e+08</td>\n",
       "      <td>0.000000e+00</td>\n",
       "      <td>NaN</td>\n",
       "      <td>1.576313e+10</td>\n",
       "      <td>...</td>\n",
       "      <td>Zions Bancorp</td>\n",
       "      <td>reports</td>\n",
       "      <td>Financials</td>\n",
       "      <td>Regional Banks</td>\n",
       "      <td>Salt Lake City, Utah</td>\n",
       "      <td>NaT</td>\n",
       "      <td>109380</td>\n",
       "      <td>NaN</td>\n",
       "      <td>Utah</td>\n",
       "      <td>NaN</td>\n",
       "    </tr>\n",
       "    <tr>\n",
       "      <th>1777</th>\n",
       "      <td>ZTS</td>\n",
       "      <td>2013-12-31</td>\n",
       "      <td>1.381000e+09</td>\n",
       "      <td>-99000000.0</td>\n",
       "      <td>9.000000e+06</td>\n",
       "      <td>54.0</td>\n",
       "      <td>-1.840000e+08</td>\n",
       "      <td>8.780000e+08</td>\n",
       "      <td>43.0</td>\n",
       "      <td>6.100000e+08</td>\n",
       "      <td>...</td>\n",
       "      <td>Zoetis</td>\n",
       "      <td>reports</td>\n",
       "      <td>Health Care</td>\n",
       "      <td>Pharmaceuticals</td>\n",
       "      <td>Florham Park, New Jersey</td>\n",
       "      <td>2013-06-21</td>\n",
       "      <td>1555280</td>\n",
       "      <td>22.0</td>\n",
       "      <td>New Jersey</td>\n",
       "      <td>4.0</td>\n",
       "    </tr>\n",
       "    <tr>\n",
       "      <th>1778</th>\n",
       "      <td>ZTS</td>\n",
       "      <td>2014-12-31</td>\n",
       "      <td>1.071000e+09</td>\n",
       "      <td>69000000.0</td>\n",
       "      <td>-7.000000e+06</td>\n",
       "      <td>44.0</td>\n",
       "      <td>-1.800000e+08</td>\n",
       "      <td>9.580000e+08</td>\n",
       "      <td>81.0</td>\n",
       "      <td>8.820000e+08</td>\n",
       "      <td>...</td>\n",
       "      <td>Zoetis</td>\n",
       "      <td>reports</td>\n",
       "      <td>Health Care</td>\n",
       "      <td>Pharmaceuticals</td>\n",
       "      <td>Florham Park, New Jersey</td>\n",
       "      <td>2013-06-21</td>\n",
       "      <td>1555280</td>\n",
       "      <td>22.0</td>\n",
       "      <td>New Jersey</td>\n",
       "      <td>4.0</td>\n",
       "    </tr>\n",
       "    <tr>\n",
       "      <th>1779</th>\n",
       "      <td>ZTS</td>\n",
       "      <td>2015-12-31</td>\n",
       "      <td>1.313000e+09</td>\n",
       "      <td>-58000000.0</td>\n",
       "      <td>-8.100000e+07</td>\n",
       "      <td>32.0</td>\n",
       "      <td>-2.240000e+08</td>\n",
       "      <td>1.012000e+09</td>\n",
       "      <td>65.0</td>\n",
       "      <td>1.154000e+09</td>\n",
       "      <td>...</td>\n",
       "      <td>Zoetis</td>\n",
       "      <td>reports</td>\n",
       "      <td>Health Care</td>\n",
       "      <td>Pharmaceuticals</td>\n",
       "      <td>Florham Park, New Jersey</td>\n",
       "      <td>2013-06-21</td>\n",
       "      <td>1555280</td>\n",
       "      <td>22.0</td>\n",
       "      <td>New Jersey</td>\n",
       "      <td>4.0</td>\n",
       "    </tr>\n",
       "    <tr>\n",
       "      <th>1780</th>\n",
       "      <td>ZTS</td>\n",
       "      <td>2016-12-31</td>\n",
       "      <td>1.076000e+09</td>\n",
       "      <td>15000000.0</td>\n",
       "      <td>2.000000e+06</td>\n",
       "      <td>55.0</td>\n",
       "      <td>-2.160000e+08</td>\n",
       "      <td>1.024000e+09</td>\n",
       "      <td>65.0</td>\n",
       "      <td>7.270000e+08</td>\n",
       "      <td>...</td>\n",
       "      <td>Zoetis</td>\n",
       "      <td>reports</td>\n",
       "      <td>Health Care</td>\n",
       "      <td>Pharmaceuticals</td>\n",
       "      <td>Florham Park, New Jersey</td>\n",
       "      <td>2013-06-21</td>\n",
       "      <td>1555280</td>\n",
       "      <td>22.0</td>\n",
       "      <td>New Jersey</td>\n",
       "      <td>4.0</td>\n",
       "    </tr>\n",
       "  </tbody>\n",
       "</table>\n",
       "<p>1781 rows × 88 columns</p>\n",
       "</div>"
      ],
      "text/plain": [
       "     Ticker Symbol Period Ending  Accounts Payable  Accounts Receivable  \\\n",
       "0              AAL    2012-12-31      3.068000e+09         -222000000.0   \n",
       "1              AAL    2013-12-31      4.975000e+09          -93000000.0   \n",
       "2              AAL    2014-12-31      4.668000e+09         -160000000.0   \n",
       "3              AAL    2015-12-31      5.102000e+09          352000000.0   \n",
       "4              AAP    2012-12-29      2.409453e+09          -89482000.0   \n",
       "...            ...           ...               ...                  ...   \n",
       "1776          ZION    2015-12-31      0.000000e+00                  0.0   \n",
       "1777           ZTS    2013-12-31      1.381000e+09          -99000000.0   \n",
       "1778           ZTS    2014-12-31      1.071000e+09           69000000.0   \n",
       "1779           ZTS    2015-12-31      1.313000e+09          -58000000.0   \n",
       "1780           ZTS    2016-12-31      1.076000e+09           15000000.0   \n",
       "\n",
       "      Add'l income/expense items  After Tax ROE  Capital Expenditures  \\\n",
       "0                  -1.961000e+09           23.0         -1.888000e+09   \n",
       "1                  -2.723000e+09           67.0         -3.114000e+09   \n",
       "2                  -1.500000e+08          143.0         -5.311000e+09   \n",
       "3                  -7.080000e+08          135.0         -6.151000e+09   \n",
       "4                   6.000000e+05           32.0         -2.711820e+08   \n",
       "...                          ...            ...                   ...   \n",
       "1776               -2.530000e+06            4.0         -1.573610e+08   \n",
       "1777                9.000000e+06           54.0         -1.840000e+08   \n",
       "1778               -7.000000e+06           44.0         -1.800000e+08   \n",
       "1779               -8.100000e+07           32.0         -2.240000e+08   \n",
       "1780                2.000000e+06           55.0         -2.160000e+08   \n",
       "\n",
       "      Capital Surplus  Cash Ratio  Cash and Cash Equivalents  ...  \\\n",
       "0        4.695000e+09        53.0               1.330000e+09  ...   \n",
       "1        1.059200e+10        75.0               2.175000e+09  ...   \n",
       "2        1.513500e+10        60.0               1.768000e+09  ...   \n",
       "3        1.159100e+10        51.0               1.085000e+09  ...   \n",
       "4        5.202150e+08        23.0               5.981110e+08  ...   \n",
       "...               ...         ...                        ...  ...   \n",
       "1776     0.000000e+00         NaN               1.576313e+10  ...   \n",
       "1777     8.780000e+08        43.0               6.100000e+08  ...   \n",
       "1778     9.580000e+08        81.0               8.820000e+08  ...   \n",
       "1779     1.012000e+09        65.0               1.154000e+09  ...   \n",
       "1780     1.024000e+09        65.0               7.270000e+08  ...   \n",
       "\n",
       "                     Security  SEC filings             GICS Sector  \\\n",
       "0     American Airlines Group      reports             Industrials   \n",
       "1     American Airlines Group      reports             Industrials   \n",
       "2     American Airlines Group      reports             Industrials   \n",
       "3     American Airlines Group      reports             Industrials   \n",
       "4          Advance Auto Parts      reports  Consumer Discretionary   \n",
       "...                       ...          ...                     ...   \n",
       "1776            Zions Bancorp      reports              Financials   \n",
       "1777                   Zoetis      reports             Health Care   \n",
       "1778                   Zoetis      reports             Health Care   \n",
       "1779                   Zoetis      reports             Health Care   \n",
       "1780                   Zoetis      reports             Health Care   \n",
       "\n",
       "      GICS Sub Industry   Address of Headquarters  Date first added      CIK  \\\n",
       "0              Airlines         Fort Worth, Texas        2015-03-23     6201   \n",
       "1              Airlines         Fort Worth, Texas        2015-03-23     6201   \n",
       "2              Airlines         Fort Worth, Texas        2015-03-23     6201   \n",
       "3              Airlines         Fort Worth, Texas        2015-03-23     6201   \n",
       "4     Automotive Retail         Roanoke, Virginia        2015-07-09  1158449   \n",
       "...                 ...                       ...               ...      ...   \n",
       "1776     Regional Banks      Salt Lake City, Utah               NaT   109380   \n",
       "1777    Pharmaceuticals  Florham Park, New Jersey        2013-06-21  1555280   \n",
       "1778    Pharmaceuticals  Florham Park, New Jersey        2013-06-21  1555280   \n",
       "1779    Pharmaceuticals  Florham Park, New Jersey        2013-06-21  1555280   \n",
       "1780    Pharmaceuticals  Florham Park, New Jersey        2013-06-21  1555280   \n",
       "\n",
       "      Rank_by_Sector        State  Rank_by_State  \n",
       "0               34.0        Texas            2.0  \n",
       "1               34.0        Texas            2.0  \n",
       "2               34.0        Texas            2.0  \n",
       "3               34.0        Texas            2.0  \n",
       "4               49.0     Virginia            2.0  \n",
       "...              ...          ...            ...  \n",
       "1776             NaN         Utah            NaN  \n",
       "1777            22.0   New Jersey            4.0  \n",
       "1778            22.0   New Jersey            4.0  \n",
       "1779            22.0   New Jersey            4.0  \n",
       "1780            22.0   New Jersey            4.0  \n",
       "\n",
       "[1781 rows x 88 columns]"
      ]
     },
     "execution_count": 10,
     "metadata": {},
     "output_type": "execute_result"
    }
   ],
   "source": [
    "merge_data"
   ]
  },
  {
   "cell_type": "markdown",
   "metadata": {},
   "source": [
    "请列举每个sector在2013-2016年累计Research&Development的总投入（10分）"
   ]
  },
  {
   "cell_type": "code",
   "execution_count": 11,
   "metadata": {},
   "outputs": [
    {
     "name": "stdout",
     "output_type": "stream",
     "text": [
      "GICS Sector\n",
      "Consumer Discretionary         1.860178e+09\n",
      "Consumer Staples               7.150872e+09\n",
      "Energy                         2.076513e+09\n",
      "Financials                     2.401300e+08\n",
      "Health Care                    1.688513e+11\n",
      "Industrials                    5.533400e+10\n",
      "Information Technology         3.158830e+11\n",
      "Materials                      2.061621e+10\n",
      "Real Estate                    1.162100e+08\n",
      "Telecommunications Services    0.000000e+00\n",
      "Utilities                      0.000000e+00\n",
      "Name: Research and Development, dtype: float64\n"
     ]
    }
   ],
   "source": [
    "df1 = merge_data[merge_data['Period Ending'].apply(lambda x:x.split('-')[0] in ['2013','2014','2015','2016'])]\n",
    "\n",
    "rd_by_sec = df1.groupby('GICS Sector')['Research and Development'].sum()\n",
    "\n",
    "print(rd_by_sec)"
   ]
  },
  {
   "cell_type": "markdown",
   "metadata": {},
   "source": [
    "请列举出每个sector中，在2013-2016年累计Research&development投入最大的3家公司的名称以及投入的数值（20分）"
   ]
  },
  {
   "cell_type": "code",
   "execution_count": 12,
   "metadata": {},
   "outputs": [],
   "source": [
    "rd_by_sec_comp = df1.groupby(['GICS Sector','Ticker Symbol'])['Research and Development'].sum()\n",
    "rd_by_sec_comp = rd_by_sec_comp.reset_index()\n",
    "rd_by_sec_comp['Rank'] = rd_by_sec_comp.groupby('GICS Sector')['Research and Development'].\\\n",
    "                        rank(method='dense', ascending=False)\n",
    "\n",
    "top_rd = rd_by_sec_comp[(rd_by_sec_comp['Rank']<=3) & (rd_by_sec_comp['Research and Development'] != 0)]"
   ]
  },
  {
   "cell_type": "code",
   "execution_count": 13,
   "metadata": {},
   "outputs": [
    {
     "data": {
      "text/html": [
       "<div>\n",
       "<style scoped>\n",
       "    .dataframe tbody tr th:only-of-type {\n",
       "        vertical-align: middle;\n",
       "    }\n",
       "\n",
       "    .dataframe tbody tr th {\n",
       "        vertical-align: top;\n",
       "    }\n",
       "\n",
       "    .dataframe thead th {\n",
       "        text-align: right;\n",
       "    }\n",
       "</style>\n",
       "<table border=\"1\" class=\"dataframe\">\n",
       "  <thead>\n",
       "    <tr style=\"text-align: right;\">\n",
       "      <th></th>\n",
       "      <th>GICS Sector</th>\n",
       "      <th>Ticker Symbol</th>\n",
       "      <th>Research and Development</th>\n",
       "      <th>Rank</th>\n",
       "    </tr>\n",
       "  </thead>\n",
       "  <tbody>\n",
       "    <tr>\n",
       "      <th>24</th>\n",
       "      <td>Consumer Discretionary</td>\n",
       "      <td>GRMN</td>\n",
       "      <td>1.187087e+09</td>\n",
       "      <td>1.0</td>\n",
       "    </tr>\n",
       "    <tr>\n",
       "      <th>27</th>\n",
       "      <td>Consumer Discretionary</td>\n",
       "      <td>HAS</td>\n",
       "      <td>6.730910e+08</td>\n",
       "      <td>2.0</td>\n",
       "    </tr>\n",
       "    <tr>\n",
       "      <th>83</th>\n",
       "      <td>Consumer Staples</td>\n",
       "      <td>CLX</td>\n",
       "      <td>5.320000e+08</td>\n",
       "      <td>2.0</td>\n",
       "    </tr>\n",
       "    <tr>\n",
       "      <th>85</th>\n",
       "      <td>Consumer Staples</td>\n",
       "      <td>CPB</td>\n",
       "      <td>4.910000e+08</td>\n",
       "      <td>3.0</td>\n",
       "    </tr>\n",
       "    <tr>\n",
       "      <th>102</th>\n",
       "      <td>Consumer Staples</td>\n",
       "      <td>PG</td>\n",
       "      <td>5.804172e+09</td>\n",
       "      <td>1.0</td>\n",
       "    </tr>\n",
       "    <tr>\n",
       "      <th>113</th>\n",
       "      <td>Energy</td>\n",
       "      <td>BHI</td>\n",
       "      <td>2.019000e+09</td>\n",
       "      <td>1.0</td>\n",
       "    </tr>\n",
       "    <tr>\n",
       "      <th>123</th>\n",
       "      <td>Energy</td>\n",
       "      <td>HP</td>\n",
       "      <td>5.751300e+07</td>\n",
       "      <td>2.0</td>\n",
       "    </tr>\n",
       "    <tr>\n",
       "      <th>190</th>\n",
       "      <td>Financials</td>\n",
       "      <td>USB</td>\n",
       "      <td>2.401300e+08</td>\n",
       "      <td>1.0</td>\n",
       "    </tr>\n",
       "    <tr>\n",
       "      <th>199</th>\n",
       "      <td>Health Care</td>\n",
       "      <td>AMGN</td>\n",
       "      <td>1.629000e+10</td>\n",
       "      <td>3.0</td>\n",
       "    </tr>\n",
       "    <tr>\n",
       "      <th>227</th>\n",
       "      <td>Health Care</td>\n",
       "      <td>MRK</td>\n",
       "      <td>2.138700e+10</td>\n",
       "      <td>2.0</td>\n",
       "    </tr>\n",
       "    <tr>\n",
       "      <th>231</th>\n",
       "      <td>Health Care</td>\n",
       "      <td>PFE</td>\n",
       "      <td>2.276100e+10</td>\n",
       "      <td>1.0</td>\n",
       "    </tr>\n",
       "    <tr>\n",
       "      <th>250</th>\n",
       "      <td>Industrials</td>\n",
       "      <td>BA</td>\n",
       "      <td>1.407600e+10</td>\n",
       "      <td>1.0</td>\n",
       "    </tr>\n",
       "    <tr>\n",
       "      <th>251</th>\n",
       "      <td>Industrials</td>\n",
       "      <td>CAT</td>\n",
       "      <td>8.496000e+09</td>\n",
       "      <td>3.0</td>\n",
       "    </tr>\n",
       "    <tr>\n",
       "      <th>302</th>\n",
       "      <td>Industrials</td>\n",
       "      <td>UTX</td>\n",
       "      <td>9.433000e+09</td>\n",
       "      <td>2.0</td>\n",
       "    </tr>\n",
       "    <tr>\n",
       "      <th>306</th>\n",
       "      <td>Information Technology</td>\n",
       "      <td>AAPL</td>\n",
       "      <td>2.862800e+10</td>\n",
       "      <td>3.0</td>\n",
       "    </tr>\n",
       "    <tr>\n",
       "      <th>335</th>\n",
       "      <td>Information Technology</td>\n",
       "      <td>INTC</td>\n",
       "      <td>4.701600e+10</td>\n",
       "      <td>1.0</td>\n",
       "    </tr>\n",
       "    <tr>\n",
       "      <th>343</th>\n",
       "      <td>Information Technology</td>\n",
       "      <td>MSFT</td>\n",
       "      <td>4.582600e+10</td>\n",
       "      <td>2.0</td>\n",
       "    </tr>\n",
       "    <tr>\n",
       "      <th>372</th>\n",
       "      <td>Materials</td>\n",
       "      <td>DD</td>\n",
       "      <td>7.534000e+09</td>\n",
       "      <td>1.0</td>\n",
       "    </tr>\n",
       "    <tr>\n",
       "      <th>381</th>\n",
       "      <td>Materials</td>\n",
       "      <td>MON</td>\n",
       "      <td>6.350000e+09</td>\n",
       "      <td>2.0</td>\n",
       "    </tr>\n",
       "    <tr>\n",
       "      <th>385</th>\n",
       "      <td>Materials</td>\n",
       "      <td>PPG</td>\n",
       "      <td>1.888000e+09</td>\n",
       "      <td>3.0</td>\n",
       "    </tr>\n",
       "    <tr>\n",
       "      <th>415</th>\n",
       "      <td>Real Estate</td>\n",
       "      <td>VNO</td>\n",
       "      <td>3.221000e+07</td>\n",
       "      <td>2.0</td>\n",
       "    </tr>\n",
       "    <tr>\n",
       "      <th>417</th>\n",
       "      <td>Real Estate</td>\n",
       "      <td>WY</td>\n",
       "      <td>8.400000e+07</td>\n",
       "      <td>1.0</td>\n",
       "    </tr>\n",
       "  </tbody>\n",
       "</table>\n",
       "</div>"
      ],
      "text/plain": [
       "                GICS Sector Ticker Symbol  Research and Development  Rank\n",
       "24   Consumer Discretionary          GRMN              1.187087e+09   1.0\n",
       "27   Consumer Discretionary           HAS              6.730910e+08   2.0\n",
       "83         Consumer Staples           CLX              5.320000e+08   2.0\n",
       "85         Consumer Staples           CPB              4.910000e+08   3.0\n",
       "102        Consumer Staples            PG              5.804172e+09   1.0\n",
       "113                  Energy           BHI              2.019000e+09   1.0\n",
       "123                  Energy            HP              5.751300e+07   2.0\n",
       "190              Financials           USB              2.401300e+08   1.0\n",
       "199             Health Care          AMGN              1.629000e+10   3.0\n",
       "227             Health Care           MRK              2.138700e+10   2.0\n",
       "231             Health Care           PFE              2.276100e+10   1.0\n",
       "250             Industrials            BA              1.407600e+10   1.0\n",
       "251             Industrials           CAT              8.496000e+09   3.0\n",
       "302             Industrials           UTX              9.433000e+09   2.0\n",
       "306  Information Technology          AAPL              2.862800e+10   3.0\n",
       "335  Information Technology          INTC              4.701600e+10   1.0\n",
       "343  Information Technology          MSFT              4.582600e+10   2.0\n",
       "372               Materials            DD              7.534000e+09   1.0\n",
       "381               Materials           MON              6.350000e+09   2.0\n",
       "385               Materials           PPG              1.888000e+09   3.0\n",
       "415             Real Estate           VNO              3.221000e+07   2.0\n",
       "417             Real Estate            WY              8.400000e+07   1.0"
      ]
     },
     "execution_count": 13,
     "metadata": {},
     "output_type": "execute_result"
    }
   ],
   "source": [
    "top_rd"
   ]
  },
  {
   "cell_type": "markdown",
   "metadata": {},
   "source": [
    "### 题目四"
   ]
  },
  {
   "cell_type": "markdown",
   "metadata": {},
   "source": [
    "### 4. 现在让我们来看看更加复杂的数据。请导入price.csv，然后结合你的聪明才智回答以下问题（附加题，40分）"
   ]
  },
  {
   "cell_type": "code",
   "execution_count": 14,
   "metadata": {},
   "outputs": [],
   "source": [
    "price_data = pd.read_csv('prices.csv')\n",
    "price_data = price_data[price_data['date'].apply(lambda x:x.split('-')[0])=='2016']"
   ]
  },
  {
   "cell_type": "markdown",
   "metadata": {},
   "source": [
    "假设你是某基金公司的老板，现在对于每只股票，你都专门安排了一位负责它的交易员。公司规定每一位交易员手中的资金要么全部买入要么全部卖出（空仓，转化为现金）。假设2016年每一位交易员手中都有10000美元，假设他们都能够看到2016年全年的数据，假设他们都能抓住每一次机会，那么请问2016年底时，赚钱最多的股票是哪一只，赚了多少钱？"
   ]
  },
  {
   "cell_type": "code",
   "execution_count": 15,
   "metadata": {},
   "outputs": [],
   "source": [
    "def daily_trade(principal,low,high,c_price,o_price):\n",
    "    if high-o_price >= c_price-low:\n",
    "        highest = high\n",
    "        lowest = o_price\n",
    "    else:\n",
    "        highest = c_price\n",
    "        lowest = low\n",
    "        \n",
    "    shares = principal//lowest\n",
    "    margin = (highest-lowest) * shares\n",
    "    principal = principal + margin\n",
    "    return principal"
   ]
  },
  {
   "cell_type": "code",
   "execution_count": 16,
   "metadata": {},
   "outputs": [],
   "source": [
    "stock_list = list(price_data['symbol'].unique())"
   ]
  },
  {
   "cell_type": "code",
   "execution_count": 17,
   "metadata": {},
   "outputs": [],
   "source": [
    "price_data.sort_values('date',inplace=True)"
   ]
  },
  {
   "cell_type": "code",
   "execution_count": 18,
   "metadata": {},
   "outputs": [
    {
     "name": "stdout",
     "output_type": "stream",
     "text": [
      "{'WLTW': 267231.6133319998, 'A': 174364.37978199986, 'AAL': 1269216.4067760005, 'AAP': 311258.4275989998, 'AAPL': 159963.60204199993, 'ABBV': 374492.16341699986, 'ABC': 173175.86267500004, 'ABT': 168203.12792199999, 'ACN': 126029.39107800006, 'ADBE': 204607.5082300002, 'ADI': 248451.96745500003, 'ADM': 312988.1489279997, 'ADP': 90533.26717200002, 'ADS': 617223.1799299996, 'ADSK': 761289.8002590003, 'AEE': 169780.40977099998, 'AEP': 133898.09157500003, 'AES': 593893.39, 'AET': 272858.944405, 'AFL': 90222.00795399997, 'AGN': 421418.91704600025, 'AIG': 120195.56913300013, 'AIZ': 161560.13261099983, 'AJG': 94316.167036, 'AKAM': 542014.3871390003, 'ALB': 553072.9324109998, 'ALK': 579197.2835449999, 'ALL': 73374.37601399994, 'ALLE': 178088.55571100014, 'ALXN': 2001000.7330849997, 'AMAT': 339769.63408800005, 'AME': 130759.84772099994, 'AMG': 552662.3675510001, 'AMGN': 199485.6867969999, 'AMP': 332585.93876600004, 'AMT': 138308.67172099993, 'AMZN': 205986.51546600013, 'AN': 872837.208547, 'ANTM': 278019.640385, 'AON': 86089.74833099998, 'APA': 4128078.894455002, 'APC': 4546183.985924002, 'APD': 125045.27692999993, 'APH': 103068.7205180001, 'ARNC': 2365379.899530002, 'ATVI': 505687.2690559998, 'AVB': 205238.36033500003, 'AVGO': 418470.88611799956, 'AVY': 145697.354136, 'AWK': 145765.73831399996, 'AXP': 138329.18442899996, 'AYI': 384652.55088899983, 'AZO': 130877.3596100001, 'BA': 199122.77069899996, 'BAC': 447146.8034459999, 'BAX': 168786.94048799993, 'BBBY': 551055.0015709999, 'BBT': 172516.8560670001, 'BBY': 830436.4332180001, 'BCR': 135333.78275099988, 'BDX': 122740.500412, 'BEN': 426555.0953229996, 'BHI': 1447260.2029490008, 'BIIB': 494521.3120879999, 'BK': 174656.57377200012, 'BLK': 208894.25580199977, 'BLL': 169773.22212900015, 'BMY': 205957.46066900002, 'BSX': 207881.248775, 'BWA': 985742.1087270003, 'BXP': 160585.9944119999, 'C': 379000.97301300045, 'CA': 159549.0100400001, 'CAG': 136263.649711, 'CAH': 177070.6087809999, 'CAT': 290055.4232539999, 'CB': 83802.40203500011, 'CBG': 496783.3173310007, 'CBS': 360338.62721200014, 'CCI': 115161.563818, 'CCL': 249215.26074099995, 'CELG': 612634.7412310003, 'CERN': 264327.9211089998, 'CF': 10200755.382866004, 'CFG': 625224.8871990007, 'CHD': 119000.20081299996, 'CHK': 2484460761.24, 'CHRW': 165699.29183000003, 'CHTR': 573579.721649, 'CI': 367841.80611699977, 'CINF': 84523.55270600006, 'CL': 71406.58686099995, 'CLX': 95924.63144599991, 'CMA': 641350.74483, 'CMCSA': 149337.2984670001, 'CME': 148895.93972499995, 'CMG': 784479.149181, 'CMI': 414865.69922800007, 'CMS': 152303.85919000016, 'CNC': 1225457.031409, 'CNP': 205055.06806800005, 'COF': 333278.08527400007, 'COG': 4691491.775091001, 'COH': 451360.00463700044, 'COL': 128497.33775200012, 'COO': 221501.39267899987, 'COP': 1624246.559222999, 'COST': 101910.862839, 'COTY': 875908.508794, 'CPB': 156364.28913600006, 'CRM': 287033.271591, 'CSCO': 124732.71547300003, 'CSRA': 796457.4222410003, 'CSX': 356298.78791499994, 'CTAS': 110782.902604, 'CTL': 331672.2008409999, 'CTSH': 261248.55898599987, 'CTXS': 311041.4027579998, 'CVS': 117176.88667800002, 'CVX': 230375.038016, 'CXO': 2087777.315348, 'D': 123792.00104699995, 'DAL': 702660.385063, 'DD': 203757.39976800006, 'DE': 234966.1739859998, 'DFS': 194365.65469600036, 'DG': 204263.23785999994, 'DGX': 150609.17154099979, 'DHI': 381120.0441189997, 'DHR': 74282.75797500006, 'DIS': 98982.49390900006, 'DISCA': 756034.0628140002, 'DISCK': 639373.5016390001, 'DLPH': 594911.6571180004, 'DLR': 325964.8654720002, 'DLTR': 290930.91318699997, 'DNB': 219497.09634699996, 'DOV': 320208.8152480004, 'DOW': 159961.94202500003, 'DPS': 100364.32011400005, 'DRI': 187725.21762300003, 'DTE': 129485.29163800004, 'DUK': 135128.197218, 'DVA': 138460.61921000003, 'DVN': 21205157.718624, 'EA': 440071.847256, 'EBAY': 323125.7855839997, 'ECL': 97382.5873869999, 'ED': 156093.79738300006, 'EFX': 129972.272428, 'EIX': 142718.99518399997, 'EL': 107484.89394600005, 'EMN': 311423.0194929999, 'EMR': 184704.4614260001, 'ENDP': 47375558.02079001, 'EOG': 1043677.8160220004, 'EQIX': 375906.40028199996, 'EQR': 191104.28953399998, 'EQT': 1453720.775368, 'ES': 143710.76842199994, 'ESRX': 248316.6462939999, 'ESS': 235285.0939369997, 'ETFC': 720387.6252440002, 'ETN': 252533.52496299992, 'ETR': 153619.96821099994, 'EVHC': 3154235.454102999, 'EW': 324808.51163899974, 'EXC': 240379.8509999999, 'EXPD': 176438.879662, 'EXPE': 440715.0746290001, 'EXR': 314531.6427640001, 'F': 268848.53000000026, 'FAST': 276528.7493440001, 'FB': 206879.35439100012, 'FBHS': 231634.22158399987, 'FCX': 176316923.37000006, 'FDX': 149403.01998599988, 'FE': 217458.7092160002, 'FFIV': 309183.43649299996, 'FIS': 118466.9312639999, 'FISV': 122184.13574199995, 'FITB': 492078.93755200045, 'FL': 338520.19204500044, 'FLIR': 296511.5580279999, 'FLR': 429123.1434319999, 'FLS': 513076.95654299983, 'FMC': 703461.9638500003, 'FOX': 217396.94397800023, 'FOXA': 278311.2807119999, 'FRT': 126689.276804, 'FSLR': 1611096.2471310007, 'FTI': 864041.040547, 'FTR': 1664757.3700000008, 'GD': 119957.17179300002, 'GE': 101246.53023600006, 'GGP': 271629.0844369999, 'GILD': 216617.192463, 'GIS': 89837.986438, 'GLW': 199361.745991, 'GM': 280908.54805899994, 'GOOG': 116454.76776799995, 'GOOGL': 121904.22082800005, 'GPC': 134258.48827299985, 'GPN': 324194.139455, 'GPS': 1562183.2757819998, 'GRMN': 301773.8813330002, 'GS': 264364.45645299996, 'GT': 572132.3881910007, 'GWW': 257383.59370300002, 'HAL': 1173461.1469520002, 'HAR': 606353.5961099991, 'HAS': 203511.0274890001, 'HBAN': 496231.3799999999, 'HBI': 360130.2046480001, 'HCA': 394034.15048200014, 'HCN': 271247.9203700001, 'HCP': 417343.72731400013, 'HD': 112952.32219499994, 'HES': 3904756.205165999, 'HIG': 150503.55412499997, 'HOG': 1040915.2731879995, 'HOLX': 275099.58006500005, 'HON': 97062.40614699993, 'HP': 2819746.8038739995, 'HPE': 1090875.5352219997, 'HPQ': 632893.1855880003, 'HRB': 334661.80337799975, 'HRL': 179232.13780399997, 'HRS': 145175.52200500004, 'HSIC': 143803.47606699998, 'HST': 911877.0137230005, 'HSY': 161887.05847199998, 'HUM': 376996.89027499984, 'IBM': 125172.41781699989, 'ICE': 142232.1383220002, 'IDXX': 276835.963771, 'IFF': 163407.50894099983, 'ILMN': 1640997.5523579994, 'INTC': 147984.28706399986, 'INTU': 157300.3566009999, 'IP': 304023.45465200004, 'IPG': 173706.04220899998, 'IR': 202670.57949599996, 'IRM': 280314.4032770002, 'ISRG': 160601.67611999993, 'ITW': 106452.80825099998, 'IVZ': 345269.3901049999, 'JBHT': 263075.86633299966, 'JCI': 227717.651186, 'JEC': 306989.06285000016, 'JNJ': 63797.444699000014, 'JNPR': 289834.95737999975, 'JPM': 168773.02196999997, 'JWN': 1212924.0099140008, 'K': 98966.66594400001, 'KEY': 484701.8524309997, 'KHC': 152330.52677499998, 'KIM': 155506.125725, 'KLAC': 123489.68987000003, 'KMB': 92299.99159699999, 'KMI': 1968016.822720002, 'KMX': 957586.7930730006, 'KO': 61056.565954000056, 'KORS': 981456.9832730001, 'KR': 289772.6781780001, 'KSS': 1319745.4554769993, 'KSU': 467095.807958, 'L': 89958.08783599998, 'LB': 348143.1144669997, 'LEG': 149012.61077800006, 'LEN': 307396.2999950003, 'LH': 170395.71880899995, 'LKQ': 338400.79711400013, 'LLL': 135035.31759999998, 'LLTC': 137599.90726500002, 'LLY': 174524.10721699998, 'LMT': 90173.3998199999, 'LNC': 787052.7819740002, 'LNT': 163060.78976800016, 'LOW': 174621.1915569999, 'LRCX': 306846.7428970003, 'LUK': 410025.63500799955, 'LUV': 650421.0305600003, 'LVLT': 308411.480738, 'LYB': 504255.9139460002, 'M': 747680.8601619999, 'MA': 121823.42069299992, 'MAA': 251660.114203, 'MAC': 167260.69838599997, 'MAR': 279177.671701, 'MAS': 250389.43321700013, 'MAT': 411241.5698929997, 'MCD': 72955.05612599997, 'MCHP': 309909.0541009998, 'MCK': 344477.3215599997, 'MCO': 180469.53849199982, 'MDLZ': 198661.28901, 'MDT': 114153.85401599994, 'MET': 366423.7615530001, 'MHK': 196357.11646699993, 'MJN': 208774.88816699997, 'MKC': 104764.03796000003, 'MLM': 667536.435411, 'MMC': 75452.76531100002, 'MMM': 68308.05140299998, 'MNK': 7495837.616479998, 'MNST': 269345.6595210002, 'MO': 105951.35048400014, 'MON': 161557.46106899992, 'MOS': 4548750.053374002, 'MPC': 3411293.270931999, 'MRK': 130128.2027579999, 'MRO': 38990241.999962, 'MSFT': 149520.90137900008, 'MSI': 128950.84830500005, 'MTB': 235057.12974900013, 'MTD': 231354.5714779999, 'MU': 4922222.354561002, 'MUR': 34181602.86403202, 'MYL': 1275596.7288840006, 'NAVI': 2399412.36945, 'NBL': 2349185.7639929997, 'NDAQ': 172391.389325, 'NEE': 135834.58941699986, 'NEM': 4494534.097023004, 'NFLX': 1452741.440738, 'NFX': 5034314.625601, 'NI': 185863.57931600002, 'NKE': 185468.8756980001, 'NLSN': 134789.101954, 'NOC': 97438.42009099986, 'NOV': 2604492.1118279994, 'NRG': 12345856.275669996, 'NSC': 390376.4319680001, 'NTAP': 728465.3436220007, 'NTRS': 307168.336106, 'NUE': 449430.3805299998, 'NVDA': 958200.1002040001, 'NWL': 281208.06759500003, 'NWS': 506163.51000000065, 'NWSA': 614580.9800000004, 'O': 244632.64227500017, 'OKE': 5368655.066163999, 'OMC': 140437.2540699999, 'ORCL': 109925.65250100014, 'ORLY': 183648.69831199996, 'OXY': 277580.50843699987, 'PAYX': 114646.08589300001, 'PBCT': 233722.83848399998, 'PBI': 212261.97061199983, 'PCAR': 422795.588101, 'PCG': 126509.75471200007, 'PCLN': 255183.05787199995, 'PDCO': 245155.928999, 'PEG': 163673.96250400023, 'PEP': 63661.77111800001, 'PFE': 113905.41532000012, 'PFG': 299860.8857070001, 'PG': 71779.36061299992, 'PGR': 87237.24626800006, 'PH': 208623.86373999997, 'PHM': 537162.2421850001, 'PKI': 218419.54008199985, 'PLD': 190282.633178, 'PM': 91416.34668000003, 'PNC': 156271.42516399996, 'PNR': 302554.3838599997, 'PNW': 161719.4043610001, 'PPG': 140315.9664210001, 'PPL': 136386.04476500017, 'PRGO': 678309.9245329999, 'PRU': 312632.14029499993, 'PSA': 220906.60044200008, 'PSX': 237136.69919500014, 'PVH': 624500.983058, 'PWR': 412178.45704899926, 'PX': 126737.21980799994, 'PXD': 1316022.7023230002, 'PYPL': 395379.700725, 'QCOM': 257547.80731199996, 'QRVO': 2607109.55081, 'R': 961131.648201, 'RAI': 133459.87373000014, 'RCL': 743491.2170779998, 'REGN': 1497031.6939980006, 'RF': 882543.7800000001, 'RHI': 303848.86917099985, 'RHT': 246166.7226760001, 'RIG': 99331995.82, 'RL': 602004.05488, 'ROK': 230180.67527099984, 'ROP': 122191.67957399997, 'ROST': 226633.30667700013, 'RRC': 25293181.190943006, 'RSG': 78579.22332399995, 'RTN': 113964.82124400006, 'SBUX': 134724.11775900004, 'SCG': 157430.558064, 'SCHW': 525292.2090570002, 'SE': 400574.44233700034, 'SEE': 246094.19968399996, 'SHW': 187485.13323899978, 'SIG': 1230528.8002429993, 'SJM': 105157.72054299996, 'SLB': 307897.5818510001, 'SLG': 275902.4693979999, 'SNA': 142020.3739790001, 'SNI': 514737.1192970001, 'SO': 107462.55544699993, 'SPG': 146149.894635, 'SPGI': 193917.11301399994, 'SPLS': 1010654.1700000004, 'SRCL': 207902.80546999996, 'SRE': 146034.70937600004, 'STI': 318758.3616570002, 'STT': 292940.7947560002, 'STX': 3320990.989164998, 'STZ': 151059.84538099985, 'SWK': 114694.99541100004, 'SWKS': 1194220.3068760007, 'SWN': 463226606.32, 'SYF': 382253.8441419999, 'SYK': 135512.74902699995, 'SYMC': 294379.44834099995, 'SYY': 89230.36506500008, 'T': 91995.53778000009, 'TAP': 173452.99951600007, 'TDC': 657273.6673029999, 'TDG': 207972.8836929999, 'TEL': 140716.76104200014, 'TGNA': 462043.4404909997, 'TGT': 171220.647537, 'TIF': 351894.91455499997, 'TJX': 120440.76675699993, 'TMK': 107292.06122399999, 'TMO': 132413.63101900008, 'TRIP': 991036.2838709997, 'TROW': 175806.89597099982, 'TRV': 75874.15146399994, 'TSCO': 255458.72099599987, 'TSN': 280014.98772699997, 'TSO': 1971662.3198830013, 'TSS': 213900.4630079997, 'TWX': 256075.98031400001, 'TXN': 149318.0377530002, 'TXT': 272839.70493799984, 'UAA': 694440.0893879998, 'UAL': 1403454.8054019995, 'UDR': 258238.18009000007, 'UHS': 480669.68969000026, 'ULTA': 280567.2809859998, 'UNH': 137603.05498099988, 'UNM': 329969.98560400004, 'UNP': 297096.055773, 'UPS': 71614.56289499991, 'URBN': 1560262.4084230002, 'URI': 2957099.8712350004, 'USB': 125945.5283709999, 'UTX': 96137.72216199999, 'V': 114203.32657099998, 'VAR': 137108.55364700005, 'VFC': 244586.51260499997, 'VIAB': 2314704.2874879986, 'VLO': 986802.0113250003, 'VMC': 366217.58921299997, 'VNO': 201026.62624200003, 'VRSK': 114114.66913799995, 'VRSN': 204707.95848099998, 'VRTX': 3560289.317057002, 'VTR': 264482.907081, 'VZ': 95403.94367699994, 'WAT': 159277.0238069999, 'WBA': 168729.5587999999, 'WDC': 4281420.481789001, 'WEC': 154160.60555299994, 'WFC': 146984.152618, 'WFM': 454554.88379699993, 'WHR': 409853.0148180002, 'WM': 77831.74235999999, 'WMB': 64277005.83481696, 'WMT': 109952.99589900005, 'WRK': 1427600.443386002, 'WU': 184322.425685, 'WY': 238200.3402270002, 'WYN': 212292.83978200017, 'WYNN': 3570263.545923001, 'XEC': 2459781.385734998, 'XEL': 146804.2512399999, 'XL': 129221.33798099982, 'XLNX': 201442.4265570002, 'XOM': 143009.79029299968, 'XRAY': 211521.06637099988, 'XRX': 272678.00999999995, 'XYL': 140647.8314519999, 'YHOO': 345481.7107009999, 'YUM': 143834.079101, 'ZBH': 185040.95153900003, 'ZION': 924202.690493, 'ZTS': 200491.449666, 'AIV': 270661.63344400004, 'FTV': 58292.74728399994}\n"
     ]
    }
   ],
   "source": [
    "final_principal = {}\n",
    "for stock in stock_list:\n",
    "    principal = 10000\n",
    "    for index,row in price_data[price_data['symbol']==stock].iterrows():\n",
    "        o_price = row['open']\n",
    "        c_price = row['close']\n",
    "        low = row['low']\n",
    "        high = row['high']\n",
    "        principal = daily_trade(principal,low,high,c_price,o_price)\n",
    "    \n",
    "    final_principal[stock] = principal\n",
    "    \n",
    "print(final_principal)"
   ]
  },
  {
   "cell_type": "code",
   "execution_count": 20,
   "metadata": {},
   "outputs": [
    {
     "name": "stdout",
     "output_type": "stream",
     "text": [
      "2484450761.24 CHK\n"
     ]
    }
   ],
   "source": [
    "max_return = max(zip(final_principal.values(),final_principal.keys()))\n",
    "print(max_return[0]-10000,max_return[1])"
   ]
  }
 ],
 "metadata": {
  "kernelspec": {
   "display_name": "Python 3",
   "language": "python",
   "name": "python3"
  },
  "language_info": {
   "codemirror_mode": {
    "name": "ipython",
    "version": 3
   },
   "file_extension": ".py",
   "mimetype": "text/x-python",
   "name": "python",
   "nbconvert_exporter": "python",
   "pygments_lexer": "ipython3",
   "version": "3.7.6"
  }
 },
 "nbformat": 4,
 "nbformat_minor": 4
}
